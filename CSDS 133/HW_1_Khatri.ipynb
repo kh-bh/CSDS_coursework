{
 "cells": [
  {
   "cell_type": "markdown",
   "metadata": {
    "tags": []
   },
   "source": [
    "# CSDS 133: Introduction to Data Science and Engineering for Majors\n",
    "## Fall 2024\n",
    "## Assignment - 1\n",
    "## Due: 11.59.59pm Friday, Feb 9th, 2024\n",
    "\n",
    "#### There are totally 20 questions that are followed by a blank cell. Please fill in the code in the blank cell, and remember to display the result. You are allowed to use class notebooks. Submit your notebook.\n",
    "\n",
    "Because Jupyter Notebook will save the result of all codes that were executed before, if you are not sure whether your code is right and it may jeopardize the dataset ( for example: deleting some records), there are several ways to reset your data: \n",
    "* Rerun the cell that creates the data\n",
    "* Delete your current cell or comment it, and  select \"restart & run all\" in the Kernel menu.\n",
    "* Create a temporary variable that exactly copies the original dataframe, and test your codes on the temporary dataframe first.\n",
    "\n",
    "#### There are sample input output for some of the questions. Your code will be tested with different values. Test your code with different test cases.\n",
    "\n"
   ]
  },
  {
   "cell_type": "markdown",
   "metadata": {},
   "source": [
    "#### 1. Create a 5×5 numpy array of all True’s"
   ]
  },
  {
   "cell_type": "code",
   "execution_count": 2,
   "metadata": {},
   "outputs": [],
   "source": [
    "import numpy as np\n",
    "import pandas as pd "
   ]
  },
  {
   "cell_type": "code",
   "execution_count": 3,
   "metadata": {},
   "outputs": [
    {
     "data": {
      "text/plain": [
       "array([[ True,  True,  True,  True,  True],\n",
       "       [ True,  True,  True,  True,  True],\n",
       "       [ True,  True,  True,  True,  True],\n",
       "       [ True,  True,  True,  True,  True],\n",
       "       [ True,  True,  True,  True,  True]])"
      ]
     },
     "execution_count": 3,
     "metadata": {},
     "output_type": "execute_result"
    }
   ],
   "source": [
    "# code for q1\n",
    "np.full((5,5), True)"
   ]
  },
  {
   "cell_type": "markdown",
   "metadata": {},
   "source": [
    "#### 2. Given an array, replace all of the even numbers with -1. (you can use numpy functions)\n",
    "\n",
    "sample input: [3, 4, 5, 1, 8, 0]\n",
    "\n",
    "sample output: [3, -1, 5, -1, -1]"
   ]
  },
  {
   "cell_type": "code",
   "execution_count": 4,
   "metadata": {},
   "outputs": [
    {
     "name": "stdout",
     "output_type": "stream",
     "text": [
      "[3, -1, 5, 1, -1, -1]\n",
      "[5, -1, 7, -1, 9, -1, 11, -1, 13]\n"
     ]
    }
   ],
   "source": [
    "# code for q2\n",
    "# given array \n",
    "\n",
    "sampleArray = [3,4,5,1,8,0]\n",
    "sampleArray2 = [5,6,7,8,9,10,11,12,13]\n",
    "def changeEvenNumbers(array):\n",
    "    ar = []\n",
    "    for x in array:\n",
    "        if (x%2 == 0):\n",
    "            ar.append(-1)\n",
    "        else:\n",
    "            ar.append(x)\n",
    "    return print(ar)\n",
    "\n",
    "#should return [3,-1,5,1,-1,-1]\n",
    "changeEvenNumbers(sampleArray)\n",
    "\n",
    "#should return [5,-1,7,-1,9,-1,11,-1,13]\n",
    "changeEvenNumbers(sampleArray2)"
   ]
  },
  {
   "cell_type": "markdown",
   "metadata": {},
   "source": [
    "#### 3. Given two arrays, remove from one array those items that exist in another? (you can use numpy functions)\n",
    "\n",
    "array1: [10,8,5,7,3,9]  \n",
    "array2: [10,0,1,7,3,4]\n",
    "\n",
    "output: [8,5,9]"
   ]
  },
  {
   "cell_type": "code",
   "execution_count": 5,
   "metadata": {},
   "outputs": [
    {
     "name": "stdout",
     "output_type": "stream",
     "text": [
      "[8, 5, 9]\n",
      "['how', 'are', 'you']\n"
     ]
    }
   ],
   "source": [
    "# code for q3\n",
    "\n",
    "arr1 = [10,8,5,7,3,9]\n",
    "arr2 = [10,0,1,7,3,4]\n",
    "\n",
    "arr4 = [\"hi\",\"hello\"]\n",
    "arr3 = [\"hello\",\"how\",\"are\",\"you\"]\n",
    "\n",
    "def removeKnownValues(array1, array2):\n",
    "    for i in array2:\n",
    "        for j in array1:\n",
    "            if (i == j):\n",
    "                array1.remove(j)\n",
    "    return print(array1)\n",
    "\n",
    "#expected value is [8,5,9]\n",
    "removeKnownValues(arr1,arr2)\n",
    "\n",
    "#expected value is ['how','are','you']\n",
    "removeKnownValues(arr3,arr4)"
   ]
  },
  {
   "cell_type": "markdown",
   "metadata": {},
   "source": [
    "#### 4. Find the common items between two given python numpy arrays? (you can use numpy functions)\n",
    "\n",
    "array1: [8,14,75,5,6,9,41,19,3,0,11,1,15]  \n",
    "array2: [4,1,26,55,14,9,22,0,8,47,63]\n",
    "\n",
    "result: [8,14,9,0,1]"
   ]
  },
  {
   "cell_type": "code",
   "execution_count": 6,
   "metadata": {},
   "outputs": [
    {
     "name": "stdout",
     "output_type": "stream",
     "text": [
      "[8, 14, 9, 0, 1]\n"
     ]
    }
   ],
   "source": [
    "# code for q4\n",
    "\n",
    "exampleArr1in4 = [8,14,75,5,6,9,41,19,3,0,11,1,15]\n",
    "exampleArr2in4 = [4,1,26,55,14,9,22,0,8,47,63]\n",
    "\n",
    "def findCommonValues(array1,array2):\n",
    "    commonValues = []\n",
    "    for i in array1:\n",
    "        if (i in array1) & (i in array2):\n",
    "            commonValues.append(i)\n",
    "    return print(commonValues)\n",
    "\n",
    "findCommonValues(exampleArr1in4,exampleArr2in4)"
   ]
  },
  {
   "cell_type": "markdown",
   "metadata": {},
   "source": [
    "#### 5. Write a function which find the cube of a number and then use it to write a function which takes three integers and returns the sum of their cubes."
   ]
  },
  {
   "cell_type": "code",
   "execution_count": 7,
   "metadata": {},
   "outputs": [
    {
     "name": "stdout",
     "output_type": "stream",
     "text": [
      "99\n"
     ]
    }
   ],
   "source": [
    "# you will be writing two functions. \n",
    "# 1. function takes one input and return its cube\n",
    "# 2. function takes three input values returns the sum of their cubes (this function should call the first one) \n",
    "def cubeNumber (numberToBeCubed):\n",
    "    return (numberToBeCubed*numberToBeCubed*numberToBeCubed)\n",
    "\n",
    "# write a text case where you call your function\n",
    "# your_function(2,3,4) should return 99\n",
    "\n",
    "def sumOfCubes (num1 , num2, num3):\n",
    "    cubedNum1 = cubeNumber(num1)\n",
    "    cubedNum2 = cubeNumber(num2)\n",
    "    cubedNum3 = cubeNumber(num3)\n",
    "    return print(cubedNum1 + cubedNum2 + cubedNum3)\n",
    "\n",
    "# print the result\n",
    "\n",
    "sumOfCubes(2,3,4)"
   ]
  },
  {
   "cell_type": "markdown",
   "metadata": {},
   "source": [
    "#### 6. Write a function which computes the factorial of an integer. (you can use any available function)\n",
    "\n",
    "sample input: 5  \n",
    "sample output: 120 (5*4*3*2*1)"
   ]
  },
  {
   "cell_type": "code",
   "execution_count": 8,
   "metadata": {},
   "outputs": [
    {
     "name": "stdout",
     "output_type": "stream",
     "text": [
      "120\n",
      "720\n"
     ]
    }
   ],
   "source": [
    "# write your function that takes a positive integer and returns its factorial\n",
    "def factorial(factorialNumber):\n",
    "    factNumber = 1\n",
    "    for num in range(factorialNumber):\n",
    "        factNumber = factNumber * (num+1) \n",
    "    return print(factNumber)\n",
    "        \n",
    "# print result\n",
    "factorial(5)\n",
    "factorial(6)"
   ]
  },
  {
   "cell_type": "markdown",
   "metadata": {},
   "source": [
    "#### 7. Create a 5x6 matrix with row values ranging from 3 to 9 (use numpy)\n",
    "#### randomly selected values should be within the range (3,9)"
   ]
  },
  {
   "cell_type": "code",
   "execution_count": 9,
   "metadata": {},
   "outputs": [
    {
     "name": "stdout",
     "output_type": "stream",
     "text": [
      "[[4 5 8 4 3 7]\n",
      " [7 6 7 5 6 5]\n",
      " [4 4 8 3 8 7]\n",
      " [4 6 5 5 3 3]\n",
      " [4 4 8 4 8 3]]\n"
     ]
    }
   ],
   "source": [
    "# print your results\n",
    "\n",
    "matrix = np.random.randint(3,9,size = (5,6))\n",
    "print(matrix)"
   ]
  },
  {
   "cell_type": "markdown",
   "metadata": {},
   "source": [
    "#### 8. Create a random vector of size 33 and sort it (you can use numpy and you are allowed to use any available function)"
   ]
  },
  {
   "cell_type": "code",
   "execution_count": 16,
   "metadata": {},
   "outputs": [
    {
     "name": "stdout",
     "output_type": "stream",
     "text": [
      "[0.01606654 0.02188599 0.02802218 0.02863601 0.09599954 0.10392904\n",
      " 0.10518166 0.10951276 0.17639426 0.20616087 0.24414758 0.28324167\n",
      " 0.31872333 0.36581682 0.37916402 0.3938938  0.43295748 0.44077062\n",
      " 0.45979603 0.49999254 0.53878465 0.59935849 0.6123864  0.67210387\n",
      " 0.75433011 0.78090404 0.78108134 0.82761238 0.86024394 0.8602927\n",
      " 0.88719058 0.96595172 0.98887124]\n"
     ]
    }
   ],
   "source": [
    "# print your result\n",
    "print (np.sort((np.array(np.random.rand(33)))))"
   ]
  },
  {
   "cell_type": "markdown",
   "metadata": {},
   "source": [
    "#### 9. Given two arrays, check if two arrays are the same (use numpy and you can use any available function)\n",
    "\n",
    "sample input: array1 = [1, 2, 5] and array2 = [1, 2, 'k']   \n",
    "sample output: false \n",
    "\n",
    "sample input: array1 = ['a', 'd', 55, 'e'] and array2 = ['a', 'd', 55, 'e']  \n",
    "sample output: true"
   ]
  },
  {
   "cell_type": "code",
   "execution_count": null,
   "metadata": {},
   "outputs": [
    {
     "name": "stdout",
     "output_type": "stream",
     "text": [
      "not same!\n",
      "same!\n",
      "not same!\n"
     ]
    }
   ],
   "source": [
    "# create two sample arrays\n",
    "array1Ex8 = [1, 2, 5]\n",
    "array2Ex8 = [1, 2, 'k'] \n",
    "array3Ex8 = ['a', 'd', 55, 'e']\n",
    "array4Ex8 = ['a', 'd', 55, 'e'] \n",
    "# check if they are same (you can even write a function that takes two arrays and retuns true or false)\n",
    "def checkIfArraysAreEqual(array1, array2):\n",
    "    if ((array1 == array2) == True):\n",
    "        print ('same!')\n",
    "    else:\n",
    "        print('not same!')\n",
    "# print your result\n",
    "\n",
    "checkIfArraysAreEqual(array1Ex8,array2Ex8)\n",
    "checkIfArraysAreEqual(array3Ex8,array4Ex8)\n",
    "checkIfArraysAreEqual(array4Ex8,array1Ex8)\n"
   ]
  },
  {
   "cell_type": "markdown",
   "metadata": {},
   "source": [
    "#### 10. Create a vector of size 11 with random integer values, then replace the maximum value by vale 'maxval' (you can use numpy and you are allowed to use any available function)\n",
    "\n",
    "sample input: [1, 2, 5, 3, 14, 2, 4, 34, 6, 7,8]\n",
    "\n",
    "sample output: [1, 2, 5, 3, 14, 2, 4, 'maxval', 6, 7,8]\n"
   ]
  },
  {
   "cell_type": "code",
   "execution_count": 17,
   "metadata": {},
   "outputs": [
    {
     "name": "stdout",
     "output_type": "stream",
     "text": [
      "[ 5 12 11  9  1  7  1  5  2  5  6]\n",
      "[5, 'maxval', 11, 9, 1, 7, 1, 5, 2, 5, 6]\n"
     ]
    }
   ],
   "source": [
    "# create vector size 11 with random integers\n",
    "randomVector = np.random.randint(1,20,size = (11))\n",
    "print(randomVector)\n",
    "# replace max with 'maxval'\n",
    "def maxVal(vect):\n",
    "    newVector = []\n",
    "    for x in vect:\n",
    "        if x == max(vect):\n",
    "            newVector.append('maxval')\n",
    "        else:\n",
    "            newVector.append(x)\n",
    "    print(newVector)\n",
    "\n",
    "# print your result\n",
    "maxVal(randomVector)"
   ]
  },
  {
   "cell_type": "markdown",
   "metadata": {},
   "source": [
    "#### 11. Write a function that takes an array and returns the reversed array with the additional value 'lastone' added to the end (you can use numpy and you are allowed to use any available function)\n",
    "\n",
    "sample input:  [3, 7, -2, 15, 0, 5]  \n",
    "sample output: [5, 0, 15, -2, 7, 3,'lastone']\n"
   ]
  },
  {
   "cell_type": "code",
   "execution_count": null,
   "metadata": {},
   "outputs": [
    {
     "data": {
      "text/plain": [
       "[5, 0, 15, -2, 7, 3, 'lastone']"
      ]
     },
     "execution_count": 12,
     "metadata": {},
     "output_type": "execute_result"
    }
   ],
   "source": [
    "# write a function that takes an array and returns the arran in reverse order with the additonal value 'lastone' at the end\n",
    "arrayForExample11 = [3, 7, -2, 15, 0, 5]\n",
    "\n",
    "def returnReverseArray(originalArray):\n",
    "    reverseArray = originalArray[::-1]\n",
    "    reverseArray.append('lastone')\n",
    "    return reverseArray\n",
    "\n",
    "returnReverseArray(arrayForExample11)"
   ]
  },
  {
   "cell_type": "markdown",
   "metadata": {},
   "source": [
    "#### 12. Write a function that takes an array and a number. This function returns true if the list contains the number false otherwise.\n",
    "\n",
    "sample input:  [3, 7, -2, 15, 0, 5] and -2  \n",
    "sample output: true\n",
    "\n",
    "sample input:  [3, 7, -2, 15, 0, 5] and 1  \n",
    "sample output: false\n"
   ]
  },
  {
   "cell_type": "code",
   "execution_count": null,
   "metadata": {},
   "outputs": [
    {
     "name": "stdout",
     "output_type": "stream",
     "text": [
      "True\n",
      "False\n"
     ]
    }
   ],
   "source": [
    "# write a function that takes an array and a number. return true if the number is in the array false otherwise\n",
    "\n",
    "arrayForExample12 = [3, 7, -2, 15, 0, 5]\n",
    "numberForExample1 = -2\n",
    "numberForExample2 = 1\n",
    "\n",
    "\n",
    "\n",
    "def arrayAndNumber(array, number):\n",
    "    return number in array\n",
    "        \n",
    "print(arrayAndNumber(arrayForExample12,numberForExample1))\n",
    "print(arrayAndNumber(arrayForExample12,numberForExample2))"
   ]
  },
  {
   "cell_type": "markdown",
   "metadata": {},
   "source": [
    "#### 13. Given a string and create a list with characters which are present at an odd index\n",
    "\n",
    "sample input: \"Practice makes perfect!\"  \n",
    "sample output: ['r','c','i','e','m','k','s','p','r','e','t']  "
   ]
  },
  {
   "cell_type": "code",
   "execution_count": null,
   "metadata": {},
   "outputs": [
    {
     "name": "stdout",
     "output_type": "stream",
     "text": [
      "['r', 'c', 'i', 'e', 'm', 'k', 's', 'p', 'r', 'e', 't']\n"
     ]
    }
   ],
   "source": [
    "# create a sample input\n",
    "exampleString = \"Practice makes perfect!\"\n",
    "stringToArray = list(exampleString)\n",
    "# print your result\n",
    "print(stringToArray[1::2])\n"
   ]
  },
  {
   "cell_type": "markdown",
   "metadata": {},
   "source": [
    "#### 14. Given a list of numbers, print only those numbers which are divisible of 7\n",
    "\n",
    "sample input: [7,13,23,33,35,42,45]  \n",
    "sample output: 7,35,42"
   ]
  },
  {
   "cell_type": "code",
   "execution_count": null,
   "metadata": {},
   "outputs": [
    {
     "name": "stdout",
     "output_type": "stream",
     "text": [
      "7\n",
      "35\n",
      "42\n"
     ]
    }
   ],
   "source": [
    "# write a function that takes an array\n",
    "\n",
    "arrayForExample14 =[7,13,23,33,35,42,45]\n",
    "def divBy7(ar):\n",
    "    for x in ar:\n",
    "        if (x%7 == 0):\n",
    "            print(x)\n",
    "\n",
    "# print numbers that are divisible by 7 \n",
    "# do not need to return anything\n",
    "\n",
    "divBy7(arrayForExample14)"
   ]
  },
  {
   "cell_type": "markdown",
   "metadata": {},
   "source": [
    "#### 15. Given a two list of integers, create a third list so that it should contain every third element from the first list and every odd number from the second list. Condition: there should be no duplicates in the output. \n",
    "\n",
    "sample lists: \n",
    "listOne = [7, 18, 13, 11, 12,15,67,0,1,2,21,4]\n",
    "listTwo = [2, 3, 14, 26, 13,45,0,7,4]\n",
    "\n",
    "sample output: [13,15,1,4,3,45,7]"
   ]
  },
  {
   "cell_type": "code",
   "execution_count": null,
   "metadata": {},
   "outputs": [
    {
     "name": "stdout",
     "output_type": "stream",
     "text": [
      "[13, 15, 1, 4, 3, 45, 7]\n"
     ]
    }
   ],
   "source": [
    "# print your result\n",
    "\n",
    "listOne = [7, 18, 13, 11, 12,15,67,0,1,2,21,4]\n",
    "listTwo = [2, 3, 14, 26, 13,45,0,7,4]\n",
    "\n",
    "def thirdAndOddList(ar1, ar2):\n",
    "    thirdAndOdd = ar1[2::3]\n",
    "    for x in ar2:\n",
    "        if (x%2 == 1) & ((x in thirdAndOdd) == False):\n",
    "            thirdAndOdd.append(x)\n",
    "    return print(thirdAndOdd)\n",
    "\n",
    "thirdAndOddList(listOne, listTwo)"
   ]
  },
  {
   "cell_type": "markdown",
   "metadata": {},
   "source": [
    "#### 16. Given an array of numbers, find the sum of all odd indexed elements in the array. (You are not allowed to use special functions.)\n",
    "\n",
    "sample input: [1,3,-2, 7, 1, 10]  \n",
    "sample output: 20"
   ]
  },
  {
   "cell_type": "code",
   "execution_count": null,
   "metadata": {},
   "outputs": [
    {
     "name": "stdout",
     "output_type": "stream",
     "text": [
      "20\n"
     ]
    }
   ],
   "source": [
    "# you can write a function or directly write the procedure in the cell\n",
    "sampleArray16 = [1,3,-2, 7, 1, 10]\n",
    "\n",
    "def sumOddIndex(arr):\n",
    "    numEx16 = 0\n",
    "    oddNum = arr[1::2]\n",
    "    for x in oddNum:\n",
    "        numEx16 = numEx16 + x\n",
    "    return(numEx16)\n",
    "# test with different cases\n",
    "print(sumOddIndex(sampleArray16))\n",
    "# print your result"
   ]
  },
  {
   "cell_type": "markdown",
   "metadata": {},
   "source": [
    "#### 17. Write a function that return the largest number and its index from a given array. Assume there is no duplicates the array. (you can use numpy and any functions available)\n",
    "\n",
    "sample input: array = [3, 5, 0, -4, 0,-45,45, 4,1]  \n",
    "sample output: (45, 6)"
   ]
  },
  {
   "cell_type": "code",
   "execution_count": null,
   "metadata": {},
   "outputs": [
    {
     "name": "stdout",
     "output_type": "stream",
     "text": [
      "(45, 6)\n"
     ]
    }
   ],
   "source": [
    "# write a function that takes an array and return max value and its index\n",
    "\n",
    "array17 = [3, 5, 0, -4, 0,-45,45, 4,1]\n",
    "\n",
    "def minMaxOfArray(arr):\n",
    "    maxVal = arr[0]\n",
    "    count = 0\n",
    "    for x in range(len(arr)):\n",
    "        if arr[x]> maxVal:\n",
    "            maxVal = arr[x]\n",
    "            count = x\n",
    "\n",
    "    print(f\"({maxVal}, {count})\")\n",
    "\n",
    "minMaxOfArray(array17)\n",
    "# print your result"
   ]
  },
  {
   "cell_type": "markdown",
   "metadata": {},
   "source": [
    "#### 18. Write a funtion to print a specified list after removing elements at odd numbered indexes under 7. (assuming that there are more than 8 elements in the array)\n",
    "\n",
    "sample input : ['Red', 'Green', 'White', 'Red' , 'Black', 'White', 'Pink', 'Yellow', 'Purple','Green']  \n",
    "sample output : ['Red', 'White', 'Black', 'Pink', 'Yellow', 'Purple','Green']"
   ]
  },
  {
   "cell_type": "code",
   "execution_count": null,
   "metadata": {},
   "outputs": [
    {
     "name": "stdout",
     "output_type": "stream",
     "text": [
      "['Red', 'White', 'Black', 'Pink', 'Yellow', 'Purple', 'Green']\n"
     ]
    }
   ],
   "source": [
    "# print your result\n",
    "arrayEx18 = ['Red', 'Green', 'White', 'Red' , 'Black', 'White', 'Pink', 'Yellow', 'Purple','Green'] \n",
    "def removeOddUnder7(arr):\n",
    "    under7Index = arr[0:7:2]\n",
    "    for x in arr[7::]:\n",
    "        under7Index.append(x)\n",
    "    print(under7Index)\n",
    "\n",
    "removeOddUnder7(arrayEx18)\n"
   ]
  },
  {
   "cell_type": "markdown",
   "metadata": {},
   "source": [
    "#### 19. Write a function that takes two numpy arrays and merges them into one big array.\n",
    "\n",
    "sample input : [2,1,5,7] and [3,2]  \n",
    "sample output: [2,1,5,7,3,2]\n",
    "\n",
    "sample input : ['Red', 'Green', 'White', 'Black'] and  [ 'Pink', 'Yellow', 'Purple']  \n",
    "sample output: ['Red', 'Green', 'White', 'Black', 'Pink', 'Yellow', 'Purple']"
   ]
  },
  {
   "cell_type": "code",
   "execution_count": null,
   "metadata": {},
   "outputs": [
    {
     "name": "stdout",
     "output_type": "stream",
     "text": [
      "[2, 1, 5, 7, 3, 2]\n",
      "['Red', 'Green', 'White', 'Black', 'Pink', 'Yellow', 'Purple']\n"
     ]
    }
   ],
   "source": [
    "a1 = [2,1,5,7]\n",
    "a2 = [3,2] \n",
    "a3 = ['Red', 'Green', 'White', 'Black']\n",
    "a4 = [ 'Pink', 'Yellow', 'Purple']\n",
    "\n",
    "# write a function that takes two arrays\n",
    "def combineFunctions(array1, array2):\n",
    "    return array1 + array2\n",
    "    # merges them into one big array and returns it\n",
    "# print your result\n",
    "print(combineFunctions(a1,a2))\n",
    "print(combineFunctions(a3,a4))"
   ]
  },
  {
   "cell_type": "markdown",
   "metadata": {},
   "source": [
    "#### 20. Given the data of EUR/RUB historical exchange rate values, run basic statistics on the 'Change' column of the data. (data will be provided)\n",
    "1. Load data\n",
    "2. Get necessary part of the data\n",
    "3. 'Change' column is given in percentage. Remove the percentage sign and convert the value into its decimal form. E.g \"5%\" -> 0.05\n",
    "4. Run basic statistics on the converted data\n",
    "    a. Mean  \n",
    "    b. Maximum  \n",
    "    c. Minimum  \n",
    "    d. Standard deviation  \n",
    "    e. Median  \n",
    "    f. 25th percentile  \n",
    "    g. 75th percentile  \n",
    "5. Plot the data using the histogram plot.\n",
    "\n",
    "Note: EUR_RUB Historical Data.csv will be provided. "
   ]
  },
  {
   "cell_type": "code",
   "execution_count": null,
   "metadata": {},
   "outputs": [
    {
     "name": "stdout",
     "output_type": "stream",
     "text": [
      "          Price        Open         High         Low            Change\n",
      "count  4796.000000  4796.000000  4796.000000  4796.000000  4796.000000\n",
      "mean     53.879060    53.836743    54.204712    53.549477     0.000193\n",
      "std      19.171629    19.221707    19.458707    18.934326     0.009869\n",
      "min      33.267000    33.240000    33.464000    33.212000    -0.118000\n",
      "25%      36.869500    36.855750    36.980500    36.715000    -0.003600\n",
      "50%      43.783500    43.751500    43.967500    43.586500    -0.000000\n",
      "75%      71.391500    71.357750    71.767500    70.998000     0.003500\n",
      "max     127.000000   144.791000   144.791000   121.655000     0.136600\n"
     ]
    },
    {
     "data": {
      "text/plain": [
       "array([[<Axes: title={'center': 'Price   '}>,\n",
       "        <Axes: title={'center': 'Open    '}>],\n",
       "       [<Axes: title={'center': 'High    '}>,\n",
       "        <Axes: title={'center': 'Low     '}>],\n",
       "       [<Axes: title={'center': 'Change'}>, <Axes: >]], dtype=object)"
      ]
     },
     "execution_count": 21,
     "metadata": {},
     "output_type": "execute_result"
    },
    {
     "data": {
      "image/png": "[encoded data removed]",
      "text/plain": [
       "<Figure size 640x480 with 6 Axes>"
      ]
     },
     "metadata": {},
     "output_type": "display_data"
    }
   ],
   "source": [
    "# code\n",
    "eurHistoricalData = pd.read_csv('EUR_RUB Historical Data.csv')\n",
    "\n",
    "#Changing the code to now have the change column be in decimals rather than percents\n",
    "percentChangeCol = eurHistoricalData['Change %']\n",
    "eurHistoricalData['Change %'] = eurHistoricalData['Change %'].str.rstrip('%')\n",
    "eurHistoricalData['Change %'] = eurHistoricalData['Change %'].astype('float') / 100.0\n",
    "eurHistoricalData = eurHistoricalData.rename(columns={'Change %': 'Change'}) #renaming the column\n",
    "\n",
    "#print(eurHistoricalData.head())\n",
    "\n",
    "print(eurHistoricalData.describe())\n",
    "\n",
    "eurHistoricalData.hist()\n"
   ]
  }
 ],
 "metadata": {
  "kernelspec": {
   "display_name": "Python 3 (ipykernel)",
   "language": "python",
   "name": "python3"
  },
  "language_info": {
   "codemirror_mode": {
    "name": "ipython",
    "version": 3
   },
   "file_extension": ".py",
   "mimetype": "text/x-python",
   "name": "python",
   "nbconvert_exporter": "python",
   "pygments_lexer": "ipython3",
   "version": "3.10.9"
  }
 },
 "nbformat": 4,
 "nbformat_minor": 4
}
